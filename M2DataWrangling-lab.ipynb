{
 "cells": [
  {
   "cell_type": "markdown",
   "metadata": {},
   "source": [
    "<p style=\"text-align:center\">\n",
    "    <a href=\"https://skills.network/?utm_medium=Exinfluencer&utm_source=Exinfluencer&utm_content=000026UJ&utm_term=10006555&utm_id=NA-SkillsNetwork-Channel-SkillsNetworkCoursesIBMDA0321ENSkillsNetwork928-2022-01-01\" target=\"_blank\">\n",
    "    <img src=\"https://cf-courses-data.s3.us.cloud-object-storage.appdomain.cloud/assets/logos/SN_web_lightmode.png\" width=\"200\" alt=\"Skills Network Logo\"  />\n",
    "    </a>\n",
    "</p>\n"
   ]
  },
  {
   "cell_type": "markdown",
   "metadata": {},
   "source": [
    "# **Data Wrangling Lab**\n"
   ]
  },
  {
   "cell_type": "markdown",
   "metadata": {},
   "source": [
    "Estimated time needed: **45 to 60** minutes\n"
   ]
  },
  {
   "cell_type": "markdown",
   "metadata": {},
   "source": [
    "In this assignment you will be performing data wrangling.\n"
   ]
  },
  {
   "cell_type": "markdown",
   "metadata": {},
   "source": [
    "## Objectives\n"
   ]
  },
  {
   "cell_type": "markdown",
   "metadata": {},
   "source": [
    "In this lab you will perform the following:\n"
   ]
  },
  {
   "cell_type": "markdown",
   "metadata": {},
   "source": [
    "-   Identify duplicate values in the dataset.\n",
    "\n",
    "-   Remove duplicate values from the dataset.\n",
    "\n",
    "-   Identify missing values in the dataset.\n",
    "\n",
    "-   Impute the missing values in the dataset.\n",
    "\n",
    "-   Normalize data in the dataset.\n"
   ]
  },
  {
   "cell_type": "markdown",
   "metadata": {},
   "source": [
    "<hr>\n"
   ]
  },
  {
   "cell_type": "markdown",
   "metadata": {},
   "source": [
    "## Hands on Lab\n"
   ]
  },
  {
   "cell_type": "markdown",
   "metadata": {},
   "source": [
    "Import pandas module.\n"
   ]
  },
  {
   "cell_type": "code",
   "execution_count": 1,
   "metadata": {},
   "outputs": [],
   "source": [
    "import pandas as pd"
   ]
  },
  {
   "cell_type": "markdown",
   "metadata": {},
   "source": [
    "Load the dataset into a dataframe.\n"
   ]
  },
  {
   "cell_type": "code",
   "execution_count": 2,
   "metadata": {},
   "outputs": [],
   "source": [
    "df = pd.read_csv(\"https://cf-courses-data.s3.us.cloud-object-storage.appdomain.cloud/IBM-DA0321EN-SkillsNetwork/LargeData/m1_survey_data.csv\")"
   ]
  },
  {
   "cell_type": "markdown",
   "metadata": {},
   "source": [
    "## Finding duplicates\n"
   ]
  },
  {
   "cell_type": "markdown",
   "metadata": {},
   "source": [
    "In this section you will identify duplicate values in the dataset.\n"
   ]
  },
  {
   "cell_type": "markdown",
   "metadata": {},
   "source": [
    " Find how many duplicate rows exist in the dataframe.\n"
   ]
  },
  {
   "cell_type": "code",
   "execution_count": 5,
   "metadata": {},
   "outputs": [
    {
     "data": {
      "text/plain": [
       "Respondent      154\n",
       "MainBranch      154\n",
       "Hobbyist        154\n",
       "OpenSourcer     154\n",
       "OpenSource      154\n",
       "               ... \n",
       "Sexuality       149\n",
       "Ethnicity       146\n",
       "Dependents      150\n",
       "SurveyLength    154\n",
       "SurveyEase      154\n",
       "Length: 85, dtype: int64"
      ]
     },
     "execution_count": 5,
     "metadata": {},
     "output_type": "execute_result"
    }
   ],
   "source": [
    "# your code goes here\n",
    "#print(df.head())\n",
    "duplicate_rows = df[df.duplicated(keep='first')]\n",
    "duplicate_rows.count()"
   ]
  },
  {
   "cell_type": "markdown",
   "metadata": {},
   "source": [
    "## Removing duplicates\n"
   ]
  },
  {
   "cell_type": "markdown",
   "metadata": {},
   "source": [
    "Remove the duplicate rows from the dataframe.\n"
   ]
  },
  {
   "cell_type": "code",
   "execution_count": 7,
   "metadata": {},
   "outputs": [],
   "source": [
    "# your code goes here\n",
    "df.drop_duplicates(inplace=True)\n"
   ]
  },
  {
   "cell_type": "markdown",
   "metadata": {},
   "source": [
    "Verify if duplicates were actually dropped.\n"
   ]
  },
  {
   "cell_type": "code",
   "execution_count": 8,
   "metadata": {},
   "outputs": [
    {
     "data": {
      "text/plain": [
       "Respondent      0\n",
       "MainBranch      0\n",
       "Hobbyist        0\n",
       "OpenSourcer     0\n",
       "OpenSource      0\n",
       "               ..\n",
       "Sexuality       0\n",
       "Ethnicity       0\n",
       "Dependents      0\n",
       "SurveyLength    0\n",
       "SurveyEase      0\n",
       "Length: 85, dtype: int64"
      ]
     },
     "execution_count": 8,
     "metadata": {},
     "output_type": "execute_result"
    }
   ],
   "source": [
    "# your code goes here\n",
    "duplicate_rows = df[df.duplicated(keep='first')]\n",
    "duplicate_rows.count()"
   ]
  },
  {
   "cell_type": "code",
   "execution_count": 9,
   "metadata": {},
   "outputs": [
    {
     "data": {
      "text/plain": [
       "11398"
      ]
     },
     "execution_count": 9,
     "metadata": {},
     "output_type": "execute_result"
    }
   ],
   "source": [
    "df.shape[0]"
   ]
  },
  {
   "cell_type": "code",
   "execution_count": 10,
   "metadata": {},
   "outputs": [
    {
     "data": {
      "text/plain": [
       "11398"
      ]
     },
     "execution_count": 10,
     "metadata": {},
     "output_type": "execute_result"
    }
   ],
   "source": [
    "df['Respondent'].nunique()"
   ]
  },
  {
   "cell_type": "markdown",
   "metadata": {},
   "source": [
    "## Finding Missing values\n"
   ]
  },
  {
   "cell_type": "markdown",
   "metadata": {},
   "source": [
    "Find the missing values for all columns.\n"
   ]
  },
  {
   "cell_type": "code",
   "execution_count": 11,
   "metadata": {},
   "outputs": [
    {
     "name": "stdout",
     "output_type": "stream",
     "text": [
      "Missing values status:\n",
      "       Respondent  MainBranch  Hobbyist  OpenSourcer  OpenSource  Employment  \\\n",
      "0           False       False     False        False       False       False   \n",
      "1           False       False     False        False       False       False   \n",
      "2           False       False     False        False       False       False   \n",
      "3           False       False     False        False       False       False   \n",
      "4           False       False     False        False       False       False   \n",
      "...           ...         ...       ...          ...         ...         ...   \n",
      "11547       False       False     False        False       False       False   \n",
      "11548       False       False     False        False       False       False   \n",
      "11549       False       False     False        False       False       False   \n",
      "11550       False       False     False        False       False       False   \n",
      "11551       False       False     False        False       False       False   \n",
      "\n",
      "       Country  Student  EdLevel  UndergradMajor  ...  WelcomeChange  \\\n",
      "0        False    False    False           False  ...          False   \n",
      "1        False    False    False           False  ...          False   \n",
      "2        False    False    False           False  ...          False   \n",
      "3        False    False    False            True  ...          False   \n",
      "4        False    False    False           False  ...          False   \n",
      "...        ...      ...      ...             ...  ...            ...   \n",
      "11547    False    False    False           False  ...          False   \n",
      "11548    False    False    False           False  ...          False   \n",
      "11549    False    False    False           False  ...          False   \n",
      "11550    False    False    False            True  ...          False   \n",
      "11551    False    False    False           False  ...          False   \n",
      "\n",
      "       SONewContent    Age  Gender  Trans  Sexuality  Ethnicity  Dependents  \\\n",
      "0             False  False   False  False      False      False       False   \n",
      "1              True  False   False  False      False      False       False   \n",
      "2             False  False   False  False      False      False       False   \n",
      "3             False  False   False  False      False      False       False   \n",
      "4             False  False   False  False      False      False       False   \n",
      "...             ...    ...     ...    ...        ...        ...         ...   \n",
      "11547         False  False   False  False      False      False       False   \n",
      "11548         False  False   False  False      False      False       False   \n",
      "11549         False  False   False  False      False      False       False   \n",
      "11550          True  False   False  False      False      False       False   \n",
      "11551         False  False   False  False      False      False       False   \n",
      "\n",
      "       SurveyLength  SurveyEase  \n",
      "0             False       False  \n",
      "1             False       False  \n",
      "2             False       False  \n",
      "3             False       False  \n",
      "4             False       False  \n",
      "...             ...         ...  \n",
      "11547         False       False  \n",
      "11548         False       False  \n",
      "11549         False       False  \n",
      "11550         False       False  \n",
      "11551         False       False  \n",
      "\n",
      "[11398 rows x 85 columns]\n",
      "Missing values count:\n",
      "Respondent        0\n",
      "MainBranch        0\n",
      "Hobbyist          0\n",
      "OpenSourcer       0\n",
      "OpenSource       81\n",
      "               ... \n",
      "Sexuality       542\n",
      "Ethnicity       675\n",
      "Dependents      140\n",
      "SurveyLength     19\n",
      "SurveyEase       14\n",
      "Length: 85, dtype: int64\n"
     ]
    }
   ],
   "source": [
    "# your code goes here\n",
    "\n",
    "# Find missing values in the DataFrame\n",
    "missing_values = df.isnull()\n",
    "\n",
    "# Count the number of missing values in each column\n",
    "missing_values_count = df.isnull().sum()\n",
    "\n",
    "# Print the DataFrame with missing value status (True for missing, False for non-missing)\n",
    "print(\"Missing values status:\")\n",
    "print(missing_values)\n",
    "\n",
    "# Print the count of missing values in each column\n",
    "print(\"Missing values count:\")\n",
    "print(missing_values_count)\n"
   ]
  },
  {
   "cell_type": "markdown",
   "metadata": {},
   "source": [
    "Find out how many rows are missing in the column 'WorkLoc'\n"
   ]
  },
  {
   "cell_type": "code",
   "execution_count": 13,
   "metadata": {},
   "outputs": [
    {
     "data": {
      "text/plain": [
       "32"
      ]
     },
     "execution_count": 13,
     "metadata": {},
     "output_type": "execute_result"
    }
   ],
   "source": [
    "# your code goes here\n",
    "WorkLoc_missing_values_count = df['WorkLoc'].isnull().sum()\n",
    "WorkLoc_missing_values_count"
   ]
  },
  {
   "cell_type": "code",
   "execution_count": 17,
   "metadata": {},
   "outputs": [
    {
     "data": {
      "text/plain": [
       "112"
      ]
     },
     "execution_count": 17,
     "metadata": {},
     "output_type": "execute_result"
    }
   ],
   "source": [
    "EdLevel_missing_values_count = df['EdLevel'].isnull().sum()\n",
    "EdLevel_missing_values_count"
   ]
  },
  {
   "cell_type": "code",
   "execution_count": 18,
   "metadata": {},
   "outputs": [
    {
     "data": {
      "text/plain": [
       "0"
      ]
     },
     "execution_count": 18,
     "metadata": {},
     "output_type": "execute_result"
    }
   ],
   "source": [
    "df['Country'].isnull().sum()"
   ]
  },
  {
   "cell_type": "markdown",
   "metadata": {},
   "source": [
    "## Imputing missing values\n"
   ]
  },
  {
   "cell_type": "markdown",
   "metadata": {},
   "source": [
    "Find the  value counts for the column WorkLoc.\n"
   ]
  },
  {
   "cell_type": "code",
   "execution_count": 19,
   "metadata": {},
   "outputs": [
    {
     "data": {
      "text/plain": [
       "11366"
      ]
     },
     "execution_count": 19,
     "metadata": {},
     "output_type": "execute_result"
    }
   ],
   "source": [
    "# your code goes here\n",
    "df['WorkLoc'].count()"
   ]
  },
  {
   "cell_type": "code",
   "execution_count": 20,
   "metadata": {},
   "outputs": [
    {
     "data": {
      "text/plain": [
       "3"
      ]
     },
     "execution_count": 20,
     "metadata": {},
     "output_type": "execute_result"
    }
   ],
   "source": [
    "df['WorkLoc'].nunique()"
   ]
  },
  {
   "cell_type": "markdown",
   "metadata": {},
   "source": [
    "Identify the value that is most frequent (majority) in the WorkLoc column.\n"
   ]
  },
  {
   "cell_type": "code",
   "execution_count": 24,
   "metadata": {},
   "outputs": [
    {
     "data": {
      "text/plain": [
       "'Office'"
      ]
     },
     "execution_count": 24,
     "metadata": {},
     "output_type": "execute_result"
    }
   ],
   "source": [
    "#make a note of the majority value here, for future reference\n",
    "most_repeated_WorkLoc = df['WorkLoc'].value_counts().idxmax()\n",
    "most_repeated_WorkLoc"
   ]
  },
  {
   "cell_type": "markdown",
   "metadata": {},
   "source": [
    "Impute (replace) all the empty rows in the column WorkLoc with the value that you have identified as majority.\n"
   ]
  },
  {
   "cell_type": "code",
   "execution_count": 25,
   "metadata": {},
   "outputs": [
    {
     "data": {
      "text/plain": [
       "32"
      ]
     },
     "execution_count": 25,
     "metadata": {},
     "output_type": "execute_result"
    }
   ],
   "source": [
    "# your code goes here\n",
    "df['WorkLoc'].isnull().sum()"
   ]
  },
  {
   "cell_type": "code",
   "execution_count": 30,
   "metadata": {},
   "outputs": [],
   "source": [
    "df['WorkLoc'].fillna(most_repeated_WorkLoc, inplace=True)"
   ]
  },
  {
   "cell_type": "markdown",
   "metadata": {},
   "source": [
    "After imputation there should ideally not be any empty rows in the WorkLoc column.\n"
   ]
  },
  {
   "cell_type": "markdown",
   "metadata": {},
   "source": [
    "Verify if imputing was successful.\n"
   ]
  },
  {
   "cell_type": "code",
   "execution_count": 31,
   "metadata": {},
   "outputs": [
    {
     "data": {
      "text/plain": [
       "0"
      ]
     },
     "execution_count": 31,
     "metadata": {},
     "output_type": "execute_result"
    }
   ],
   "source": [
    "# your code goes here\n",
    "df['WorkLoc'].isnull().sum()"
   ]
  },
  {
   "cell_type": "code",
   "execution_count": 32,
   "metadata": {},
   "outputs": [
    {
     "data": {
      "text/plain": [
       "'Employed full-time'"
      ]
     },
     "execution_count": 32,
     "metadata": {},
     "output_type": "execute_result"
    }
   ],
   "source": [
    "df['Employment'].value_counts().idxmax()"
   ]
  },
  {
   "cell_type": "code",
   "execution_count": 33,
   "metadata": {},
   "outputs": [
    {
     "data": {
      "text/plain": [
       "'A health science (ex. nursing, pharmacy, radiology)'"
      ]
     },
     "execution_count": 33,
     "metadata": {},
     "output_type": "execute_result"
    }
   ],
   "source": [
    "df['UndergradMajor'].value_counts().idxmin()"
   ]
  },
  {
   "cell_type": "markdown",
   "metadata": {},
   "source": [
    "## Normalizing data\n"
   ]
  },
  {
   "cell_type": "markdown",
   "metadata": {},
   "source": [
    "There are two columns in the dataset that talk about compensation.\n",
    "\n",
    "One is \"CompFreq\". This column shows how often a developer is paid (Yearly, Monthly, Weekly).\n",
    "\n",
    "The other is \"CompTotal\". This column talks about how much the developer is paid per Year, Month, or Week depending upon his/her \"CompFreq\". \n",
    "\n",
    "This makes it difficult to compare the total compensation of the developers.\n",
    "\n",
    "In this section you will create a new column called 'NormalizedAnnualCompensation' which contains the 'Annual Compensation' irrespective of the 'CompFreq'.\n",
    "\n",
    "Once this column is ready, it makes comparison of salaries easy.\n"
   ]
  },
  {
   "cell_type": "markdown",
   "metadata": {},
   "source": [
    "<hr>\n"
   ]
  },
  {
   "cell_type": "markdown",
   "metadata": {},
   "source": [
    "List out the various categories in the column 'CompFreq'\n"
   ]
  },
  {
   "cell_type": "code",
   "execution_count": 44,
   "metadata": {},
   "outputs": [
    {
     "data": {
      "text/plain": [
       "3"
      ]
     },
     "execution_count": 44,
     "metadata": {},
     "output_type": "execute_result"
    }
   ],
   "source": [
    "# your code goes here\n",
    "df['CompFreq'].unique()\n",
    "df['CompFreq'].nunique()"
   ]
  },
  {
   "cell_type": "code",
   "execution_count": 45,
   "metadata": {},
   "outputs": [
    {
     "data": {
      "text/plain": [
       "Respondent                      6073\n",
       "MainBranch                      6073\n",
       "Hobbyist                        6073\n",
       "OpenSourcer                     6073\n",
       "OpenSource                      6038\n",
       "                                ... \n",
       "Ethnicity                       5780\n",
       "Dependents                      6010\n",
       "SurveyLength                    6062\n",
       "SurveyEase                      6065\n",
       "NormalizedAnnualCompensation    5992\n",
       "Length: 86, dtype: int64"
      ]
     },
     "execution_count": 45,
     "metadata": {},
     "output_type": "execute_result"
    }
   ],
   "source": [
    "df.loc[df['CompFreq'] == 'Yearly'].count()"
   ]
  },
  {
   "cell_type": "markdown",
   "metadata": {},
   "source": [
    "Create a new column named 'NormalizedAnnualCompensation'. Use the hint given below if needed.\n"
   ]
  },
  {
   "cell_type": "markdown",
   "metadata": {},
   "source": [
    "Double click to see the **Hint**.\n",
    "\n",
    "<!--\n",
    "\n",
    "Use the below logic to arrive at the values for the column NormalizedAnnualCompensation.\n",
    "\n",
    "If the CompFreq is Yearly then use the exising value in CompTotal\n",
    "If the CompFreq is Monthly then multiply the value in CompTotal with 12 (months in an year)\n",
    "If the CompFreq is Weekly then multiply the value in CompTotal with 52 (weeks in an year)\n",
    "\n",
    "-->\n"
   ]
  },
  {
   "cell_type": "code",
   "execution_count": 43,
   "metadata": {},
   "outputs": [
    {
     "name": "stdout",
     "output_type": "stream",
     "text": [
      "       Respondent                      MainBranch Hobbyist  \\\n",
      "0               4  I am a developer by profession       No   \n",
      "1               9  I am a developer by profession      Yes   \n",
      "2              13  I am a developer by profession      Yes   \n",
      "3              16  I am a developer by profession      Yes   \n",
      "4              17  I am a developer by profession      Yes   \n",
      "...           ...                             ...      ...   \n",
      "11547       25136  I am a developer by profession      Yes   \n",
      "11548       25137  I am a developer by profession      Yes   \n",
      "11549       25138  I am a developer by profession      Yes   \n",
      "11550       25141  I am a developer by profession      Yes   \n",
      "11551       25142  I am a developer by profession      Yes   \n",
      "\n",
      "                                             OpenSourcer  \\\n",
      "0                                                  Never   \n",
      "1                             Once a month or more often   \n",
      "2      Less than once a month but more than once per ...   \n",
      "3                                                  Never   \n",
      "4      Less than once a month but more than once per ...   \n",
      "...                                                  ...   \n",
      "11547                                              Never   \n",
      "11548                                              Never   \n",
      "11549                            Less than once per year   \n",
      "11550  Less than once a month but more than once per ...   \n",
      "11551  Less than once a month but more than once per ...   \n",
      "\n",
      "                                              OpenSource          Employment  \\\n",
      "0      The quality of OSS and closed source software ...  Employed full-time   \n",
      "1      The quality of OSS and closed source software ...  Employed full-time   \n",
      "2      OSS is, on average, of HIGHER quality than pro...  Employed full-time   \n",
      "3      The quality of OSS and closed source software ...  Employed full-time   \n",
      "4      The quality of OSS and closed source software ...  Employed full-time   \n",
      "...                                                  ...                 ...   \n",
      "11547  OSS is, on average, of HIGHER quality than pro...  Employed full-time   \n",
      "11548  The quality of OSS and closed source software ...  Employed full-time   \n",
      "11549  The quality of OSS and closed source software ...  Employed full-time   \n",
      "11550  OSS is, on average, of LOWER quality than prop...  Employed full-time   \n",
      "11551  OSS is, on average, of HIGHER quality than pro...  Employed full-time   \n",
      "\n",
      "              Country Student  \\\n",
      "0       United States      No   \n",
      "1         New Zealand      No   \n",
      "2       United States      No   \n",
      "3      United Kingdom      No   \n",
      "4           Australia      No   \n",
      "...               ...     ...   \n",
      "11547   United States      No   \n",
      "11548          Poland      No   \n",
      "11549   United States      No   \n",
      "11550     Switzerland      No   \n",
      "11551  United Kingdom      No   \n",
      "\n",
      "                                                 EdLevel  \\\n",
      "0               Bachelor’s degree (BA, BS, B.Eng., etc.)   \n",
      "1      Some college/university study without earning ...   \n",
      "2            Master’s degree (MA, MS, M.Eng., MBA, etc.)   \n",
      "3            Master’s degree (MA, MS, M.Eng., MBA, etc.)   \n",
      "4               Bachelor’s degree (BA, BS, B.Eng., etc.)   \n",
      "...                                                  ...   \n",
      "11547        Master’s degree (MA, MS, M.Eng., MBA, etc.)   \n",
      "11548        Master’s degree (MA, MS, M.Eng., MBA, etc.)   \n",
      "11549        Master’s degree (MA, MS, M.Eng., MBA, etc.)   \n",
      "11550  Secondary school (e.g. American high school, G...   \n",
      "11551          Other doctoral degree (Ph.D, Ed.D., etc.)   \n",
      "\n",
      "                                          UndergradMajor  ...  \\\n",
      "0      Computer science, computer engineering, or sof...  ...   \n",
      "1      Computer science, computer engineering, or sof...  ...   \n",
      "2      Computer science, computer engineering, or sof...  ...   \n",
      "3                                                    NaN  ...   \n",
      "4      Computer science, computer engineering, or sof...  ...   \n",
      "...                                                  ...  ...   \n",
      "11547  Computer science, computer engineering, or sof...  ...   \n",
      "11548  Computer science, computer engineering, or sof...  ...   \n",
      "11549  Computer science, computer engineering, or sof...  ...   \n",
      "11550                                                NaN  ...   \n",
      "11551  A natural science (ex. biology, chemistry, phy...  ...   \n",
      "\n",
      "                                            SONewContent   Age Gender Trans  \\\n",
      "0      Tech articles written by other developers;Indu...  22.0    Man    No   \n",
      "1                                                    NaN  23.0    Man    No   \n",
      "2      Tech articles written by other developers;Cour...  28.0    Man    No   \n",
      "3      Tech articles written by other developers;Indu...  26.0    Man    No   \n",
      "4      Tech articles written by other developers;Indu...  29.0    Man    No   \n",
      "...                                                  ...   ...    ...   ...   \n",
      "11547  Tech articles written by other developers;Cour...  36.0    Man    No   \n",
      "11548  Tech articles written by other developers;Tech...  25.0    Man    No   \n",
      "11549  Tech articles written by other developers;Indu...  34.0    Man    No   \n",
      "11550                                                NaN  25.0    Man    No   \n",
      "11551  Tech articles written by other developers;Tech...  30.0    Man    No   \n",
      "\n",
      "                     Sexuality                              Ethnicity  \\\n",
      "0      Straight / Heterosexual           White or of European descent   \n",
      "1                     Bisexual           White or of European descent   \n",
      "2      Straight / Heterosexual           White or of European descent   \n",
      "3      Straight / Heterosexual           White or of European descent   \n",
      "4      Straight / Heterosexual  Hispanic or Latino/Latina;Multiracial   \n",
      "...                        ...                                    ...   \n",
      "11547  Straight / Heterosexual           White or of European descent   \n",
      "11548  Straight / Heterosexual           White or of European descent   \n",
      "11549  Straight / Heterosexual           White or of European descent   \n",
      "11550  Straight / Heterosexual           White or of European descent   \n",
      "11551                 Bisexual           White or of European descent   \n",
      "\n",
      "      Dependents           SurveyLength                  SurveyEase  \\\n",
      "0             No  Appropriate in length                        Easy   \n",
      "1             No  Appropriate in length  Neither easy nor difficult   \n",
      "2            Yes  Appropriate in length                        Easy   \n",
      "3             No  Appropriate in length  Neither easy nor difficult   \n",
      "4             No  Appropriate in length                        Easy   \n",
      "...          ...                    ...                         ...   \n",
      "11547         No  Appropriate in length                   Difficult   \n",
      "11548         No  Appropriate in length  Neither easy nor difficult   \n",
      "11549        Yes               Too long                        Easy   \n",
      "11550         No  Appropriate in length                        Easy   \n",
      "11551         No  Appropriate in length                        Easy   \n",
      "\n",
      "      NormalizedAnnualCompensation  \n",
      "0                          61000.0  \n",
      "1                         138000.0  \n",
      "2                          90000.0  \n",
      "3                         348000.0  \n",
      "4                          90000.0  \n",
      "...                            ...  \n",
      "11547                     130000.0  \n",
      "11548                      74400.0  \n",
      "11549                     105000.0  \n",
      "11550                      80000.0  \n",
      "11551                          NaN  \n",
      "\n",
      "[11398 rows x 86 columns]\n"
     ]
    }
   ],
   "source": [
    "# your code goes here\n",
    "# Calculate NormalizedAnnualCompensation based on the value in 'CompFreq'\n",
    "df['NormalizedAnnualCompensation'] = df['CompTotal']\n",
    "\n",
    "df.loc[df['CompFreq'] == 'Monthly', 'NormalizedAnnualCompensation'] *= 12\n",
    "df.loc[df['CompFreq'] == 'Weekly', 'NormalizedAnnualCompensation'] *= 52\n",
    "\n",
    "# Print the DataFrame with the new column added\n",
    "print(df)"
   ]
  },
  {
   "cell_type": "code",
   "execution_count": 48,
   "metadata": {},
   "outputs": [
    {
     "data": {
      "text/plain": [
       "100000.0"
      ]
     },
     "execution_count": 48,
     "metadata": {},
     "output_type": "execute_result"
    }
   ],
   "source": [
    "import numpy as np\n",
    "df['NormalizedAnnualCompensation'].median()"
   ]
  },
  {
   "cell_type": "markdown",
   "metadata": {},
   "source": [
    "## Authors\n"
   ]
  },
  {
   "cell_type": "markdown",
   "metadata": {},
   "source": [
    "Ramesh Sannareddy\n"
   ]
  },
  {
   "cell_type": "markdown",
   "metadata": {},
   "source": [
    "### Other Contributors\n"
   ]
  },
  {
   "cell_type": "markdown",
   "metadata": {},
   "source": [
    "Rav Ahuja\n"
   ]
  },
  {
   "cell_type": "markdown",
   "metadata": {},
   "source": [
    "## Change Log\n"
   ]
  },
  {
   "cell_type": "markdown",
   "metadata": {},
   "source": [
    "| Date (YYYY-MM-DD) | Version | Changed By        | Change Description                 |\n",
    "| ----------------- | ------- | ----------------- | ---------------------------------- |\n",
    "| 2020-10-17        | 0.1     | Ramesh Sannareddy | Created initial version of the lab |\n"
   ]
  },
  {
   "cell_type": "markdown",
   "metadata": {},
   "source": [
    " Copyright © 2020 IBM Corporation. This notebook and its source code are released under the terms of the [MIT License](https://cognitiveclass.ai/mit-license?utm_medium=Exinfluencer&utm_source=Exinfluencer&utm_content=000026UJ&utm_term=10006555&utm_id=NA-SkillsNetwork-Channel-SkillsNetworkCoursesIBMDA0321ENSkillsNetwork928-2022-01-01&cm_mmc=Email_Newsletter-_-Developer_Ed%2BTech-_-WW_WW-_-SkillsNetwork-Courses-IBM-DA0321EN-SkillsNetwork-21426264&cm_mmca1=000026UJ&cm_mmca2=10006555&cm_mmca3=M12345678&cvosrc=email.Newsletter.M12345678&cvo_campaign=000026UJ).\n"
   ]
  }
 ],
 "metadata": {
  "kernelspec": {
   "display_name": "Python 3 (ipykernel)",
   "language": "python",
   "name": "python3"
  },
  "language_info": {
   "codemirror_mode": {
    "name": "ipython",
    "version": 3
   },
   "file_extension": ".py",
   "mimetype": "text/x-python",
   "name": "python",
   "nbconvert_exporter": "python",
   "pygments_lexer": "ipython3",
   "version": "3.9.12"
  }
 },
 "nbformat": 4,
 "nbformat_minor": 4
}
